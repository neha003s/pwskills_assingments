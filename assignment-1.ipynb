{
 "cells": [
  {
   "cell_type": "markdown",
   "id": "1a1d8a6a",
   "metadata": {},
   "source": [
    "## One variable containing string, list, float, tuple data types."
   ]
  },
  {
   "cell_type": "code",
   "execution_count": 1,
   "id": "06af7ec7",
   "metadata": {},
   "outputs": [
    {
     "name": "stdout",
     "output_type": "stream",
     "text": [
      "['PW skills', [1, 2, 3, 4], 2.75, (10, 20, 30, 40)]\n"
     ]
    }
   ],
   "source": [
    "x = [ \"PW skills\", [1,2,3,4], 2.75, (10, 20, 30,40)]\n",
    "print(x)"
   ]
  },
  {
   "cell_type": "markdown",
   "id": "5ee4c40a",
   "metadata": {},
   "source": [
    "## Finding types of given variables."
   ]
  },
  {
   "cell_type": "code",
   "execution_count": 4,
   "id": "29b17e39",
   "metadata": {},
   "outputs": [
    {
     "data": {
      "text/plain": [
       "(str, str, list, int)"
      ]
     },
     "execution_count": 4,
     "metadata": {},
     "output_type": "execute_result"
    }
   ],
   "source": [
    "var1 = ''                              ## sequence of character enclosed in single quote, double quote or even triple quotes. Strings are immutable.\n",
    "var2 = '[ DS , ML , Python]'           ## there is list enclosed in single quote which became a list.\n",
    "var3 = [ 'DS' , 'ML' , 'Python' ]      ## A list can have strings, tuples , list , integers as its elements.\n",
    "var4 = 1                               ## As 1 is not in enclosed quote so it is a integer data type.\n",
    "         \n",
    "type(var1), type(var2), type(var3), type(var4)         "
   ]
  },
  {
   "cell_type": "markdown",
   "id": "aedd5149",
   "metadata": {},
   "source": [
    "## use of '/', '%', '//', '**' operators."
   ]
  },
  {
   "cell_type": "code",
   "execution_count": 5,
   "id": "625121a5",
   "metadata": {},
   "outputs": [
    {
     "name": "stdout",
     "output_type": "stream",
     "text": [
      "1.3333333333333333\n",
      "1\n",
      "1\n",
      "125\n"
     ]
    }
   ],
   "source": [
    "## / is division operator whics always returns float value of quotient.\n",
    "\n",
    "a = 4/3\n",
    "print(a)\n",
    "\n",
    "## % is a modulo operator provides remainder value as output.\n",
    "\n",
    "b = 12% 11\n",
    "print(b)\n",
    "\n",
    "## // is a floor division operator which returns integer value.\n",
    "\n",
    "c= 5//4\n",
    "print(c)\n",
    "\n",
    "## ** is exponentiation operator like x**y.\n",
    "d = 5**3\n",
    "print(d)"
   ]
  },
  {
   "cell_type": "markdown",
   "id": "aab8b000",
   "metadata": {},
   "source": [
    "## Create a list of length 10 of your choice containing multiple types of data. Using for loop print the element and its data type."
   ]
  },
  {
   "cell_type": "code",
   "execution_count": 11,
   "id": "24dd0500",
   "metadata": {},
   "outputs": [
    {
     "name": "stdout",
     "output_type": "stream",
     "text": [
      "1 <class 'int'>\n",
      "{'dict', 2, 3, 4, (4, 5)} <class 'set'>\n",
      "[67, ' list', 4, 5] <class 'list'>\n",
      "pw skills <class 'str'>\n",
      "(3, 4, 5) <class 'tuple'>\n",
      "7.6 <class 'float'>\n",
      "datatype <class 'str'>\n",
      "6 <class 'int'>\n",
      "7 <class 'int'>\n",
      "9 <class 'int'>\n"
     ]
    }
   ],
   "source": [
    "Mylist = [ 1, {2,3,4, 'dict', (4,5)}, [67, ' list', 4,5], \"pw skills\", (3,4,5), 7.6, \"datatype\", 6,7,9]\n",
    "\n",
    "for item in Mylist:\n",
    "    print(item, type(item))\n"
   ]
  },
  {
   "cell_type": "markdown",
   "id": "9660f881",
   "metadata": {},
   "source": [
    "##  Using a while loop, verify if the number A is purely divisible by number B and if so then how many times it can be divisible.\n"
   ]
  },
  {
   "cell_type": "code",
   "execution_count": 14,
   "id": "24738644",
   "metadata": {},
   "outputs": [
    {
     "name": "stdout",
     "output_type": "stream",
     "text": [
      "Enter number: 1024\n",
      "Enter number: 2\n",
      "Number A is divisible by B. It can be divided 10 times.\n"
     ]
    }
   ],
   "source": [
    "A = int(input(\"Enter number: \"))\n",
    "B = int(input(\"Enter number: \"))\n",
    "\n",
    "count = 0  \n",
    "\n",
    "while A % B == 0:\n",
    "    A = A // B \n",
    "    count += 1  \n",
    "\n",
    "if count > 0:\n",
    "    print(f\"Number A is divisible by B. It can be divided {count} times.\")\n",
    "else:\n",
    "    print(\"Number A is not divisible by B.\")\n"
   ]
  },
  {
   "cell_type": "markdown",
   "id": "4f138f24",
   "metadata": {},
   "source": [
    "## Create a list containing 25 int type data. Using for loop and if-else condition print if the element is divisible by 3 or not."
   ]
  },
  {
   "cell_type": "code",
   "execution_count": 17,
   "id": "77497a74",
   "metadata": {},
   "outputs": [
    {
     "name": "stdout",
     "output_type": "stream",
     "text": [
      "1 is not divisble by 3.\n",
      "2 is not divisble by 3.\n",
      "3 is divisble by 3.\n",
      "4 is not divisble by 3.\n",
      "5 is not divisble by 3.\n",
      "6 is divisble by 3.\n",
      "7 is not divisble by 3.\n",
      "8 is not divisble by 3.\n",
      "9 is divisble by 3.\n",
      "10 is not divisble by 3.\n",
      "11 is not divisble by 3.\n",
      "12 is divisble by 3.\n",
      "13 is not divisble by 3.\n",
      "14 is not divisble by 3.\n",
      "15 is divisble by 3.\n",
      "16 is not divisble by 3.\n",
      "17 is not divisble by 3.\n",
      "18 is divisble by 3.\n",
      "19 is not divisble by 3.\n",
      "20 is not divisble by 3.\n",
      "21 is divisble by 3.\n",
      "22 is not divisble by 3.\n",
      "23 is not divisble by 3.\n",
      "24 is divisble by 3.\n",
      "25 is not divisble by 3.\n"
     ]
    }
   ],
   "source": [
    "list = [1,2,3,4,5,6,7,8,9,10,11,12,13,14,15,16,17,18,19,20,21,22,23,24,25]\n",
    "\n",
    "for i in list:\n",
    "    if (i%3==0):\n",
    "        print(i,\"is divisble by 3.\")\n",
    "    else:\n",
    "        print(i,\"is not divisble by 3.\")\n"
   ]
  },
  {
   "cell_type": "markdown",
   "id": "34df1471",
   "metadata": {},
   "source": [
    "##  What do you understand about mutable and immutable data types? Give examples for both showing this property\n"
   ]
  },
  {
   "cell_type": "code",
   "execution_count": 30,
   "id": "9f81842a",
   "metadata": {},
   "outputs": [
    {
     "name": "stdout",
     "output_type": "stream",
     "text": [
      "2572333030400\n",
      "[5, 25, 15]\n",
      "2572333030400\n",
      "2572332868160\n",
      "{'name': 'John', 'age': 26, 'city': 'San Francisco', 'occupation': 'Engineer'}\n",
      "2572332868160\n",
      "5\n",
      "2572248246704\n",
      "6\n",
      "2572248246736\n",
      "Alice\n",
      "2572332077872\n",
      "Alice Smith\n",
      "2572331576560\n",
      "(1, 2, 3)\n",
      "2572327335232\n",
      "(1, 2, 3, 4)\n",
      "2572332915664\n"
     ]
    }
   ],
   "source": [
    "\n",
    "## MUTABLE DATATYPES - When a program runs, data objects in the program are stored in the computer's memory for processing.\n",
    "## while some of these objects can be modified at the memory location, other's can not be modified once they are stored in memory location.\n",
    "## The property of whether or not data objects can be modified in the memory location where they are stored is called Mutability.\n",
    "## list and dictionary are mutable datatypes.\n",
    "\n",
    "## mutable data type -- where you can modify, append, delete the data objects at the stored memory location.\n",
    "## immutable datatype -- where you can not modify, append, delete the data objects at the stored memory location.\n",
    "\n",
    "## list\n",
    "\n",
    "a = [5,10,15]\n",
    "print(id(a))  ## output is 2572331243712\n",
    "\n",
    "a[1] = 25\n",
    "print(a)     ## output is [5,25,15]\n",
    "\n",
    "print(id(a))  ## output is 2572332082624 which is the same memory address that means list is mutable at the stored memory location\n",
    "\n",
    "\n",
    "## dictionary\n",
    "\n",
    "b = {'name': 'John', 'age': 25, 'city': 'New York'}\n",
    "print(id(b))           ## output is 2572332911808\n",
    "\n",
    "b['age'] = 26\n",
    "b['city'] = 'San Francisco'\n",
    "b['occupation'] = 'Engineer'\n",
    "\n",
    "print(b)\n",
    "print(id(b))           ## output is 2572332911808 which means dict is also mutable datatype.\n",
    "\n",
    "\n",
    "\n",
    "## integer, string and tuples are immutable datatypes.\n",
    "\n",
    "## integer\n",
    "\n",
    "x = 5\n",
    "print(x) ## Output: 5 and memory address is 2572248246704\n",
    "\n",
    "print(id(x))\n",
    "\n",
    "x += 1\n",
    "print(x)  ## Output: 6 and memory address is 2572248246736\n",
    "print(id(x))\n",
    "## x is assigned the value 5, but when we attempt to modify it by adding 1 to it,a new integer object 6 is created and assigned to x\n",
    "\n",
    "## string\n",
    "\n",
    "name = \"Alice\"\n",
    "print(name)  ## Output: Alice\n",
    "\n",
    "print(id(name))  ## memory location : 2572331809648\n",
    "\n",
    "name += \" Smith\"\n",
    "print(name)  ## Output: Alice Smith\n",
    "print(id(name))  ## memory location : 2572332910896\n",
    "\n",
    "\n",
    "## tuple \n",
    "\n",
    "my_tuple = (1, 2, 3)\n",
    "print(my_tuple)\n",
    "print(id(my_tuple))  ## stored location is 2572327335232\n",
    "\n",
    "# Attempting to modify the tuple\n",
    "my_tuple += (4,)\n",
    "print(my_tuple)  \n",
    "print(id(my_tuple))   ## stored location is 2572332915664\n",
    "\n",
    "\n",
    "\n"
   ]
  },
  {
   "cell_type": "code",
   "execution_count": null,
   "id": "3fab58e4",
   "metadata": {},
   "outputs": [],
   "source": []
  }
 ],
 "metadata": {
  "kernelspec": {
   "display_name": "Python 3 (ipykernel)",
   "language": "python",
   "name": "python3"
  },
  "language_info": {
   "codemirror_mode": {
    "name": "ipython",
    "version": 3
   },
   "file_extension": ".py",
   "mimetype": "text/x-python",
   "name": "python",
   "nbconvert_exporter": "python",
   "pygments_lexer": "ipython3",
   "version": "3.9.13"
  }
 },
 "nbformat": 4,
 "nbformat_minor": 5
}
